{
 "cells": [
  {
   "cell_type": "code",
   "execution_count": 3,
   "metadata": {},
   "outputs": [],
   "source": [
    "import gdown"
   ]
  },
  {
   "cell_type": "code",
   "execution_count": 16,
   "metadata": {},
   "outputs": [],
   "source": [
    "url=\"https://drive.google.com/file/d/10RqZ8VFZJJtdlUIwDWT5HljsiR-iykwE/view?usp=sharing\""
   ]
  },
  {
   "cell_type": "code",
   "execution_count": 17,
   "metadata": {},
   "outputs": [
    {
     "data": {
      "text/plain": [
       "'10RqZ8VFZJJtdlUIwDWT5HljsiR-iykwE'"
      ]
     },
     "execution_count": 17,
     "metadata": {},
     "output_type": "execute_result"
    }
   ],
   "source": [
    "file_id=url.split(\"/\")[-2]\n",
    "file_id"
   ]
  },
  {
   "cell_type": "code",
   "execution_count": 22,
   "metadata": {},
   "outputs": [],
   "source": [
    "prefix=\"https://drive.google.com/uc?id=\""
   ]
  },
  {
   "cell_type": "code",
   "execution_count": 23,
   "metadata": {},
   "outputs": [
    {
     "name": "stderr",
     "output_type": "stream",
     "text": [
      "Downloading...\n",
      "From (uriginal): https://drive.google.com/uc?id=10RqZ8VFZJJtdlUIwDWT5HljsiR-iykwE\n",
      "From (redirected): https://drive.google.com/uc?id=10RqZ8VFZJJtdlUIwDWT5HljsiR-iykwE&confirm=t&uuid=3d97695a-e0de-4f55-9f8a-996c3a9c1620\n",
      "To: c:\\Users\\rvaib\\OneDrive\\Desktop\\kidney-Disease-Dl-Classifier\\research\\kidney-ct-scan-data.zip\n",
      "100%|██████████| 57.7M/57.7M [01:50<00:00, 524kB/s] \n"
     ]
    },
    {
     "data": {
      "text/plain": [
       "'kidney-ct-scan-data.zip'"
      ]
     },
     "execution_count": 23,
     "metadata": {},
     "output_type": "execute_result"
    }
   ],
   "source": [
    "gdown.download(prefix+file_id,\"kidney-ct-scan-data.zip\")"
   ]
  }
 ],
 "metadata": {
  "kernelspec": {
   "display_name": "envk",
   "language": "python",
   "name": "python3"
  },
  "language_info": {
   "codemirror_mode": {
    "name": "ipython",
    "version": 3
   },
   "file_extension": ".py",
   "mimetype": "text/x-python",
   "name": "python",
   "nbconvert_exporter": "python",
   "pygments_lexer": "ipython3",
   "version": "3.8.0"
  }
 },
 "nbformat": 4,
 "nbformat_minor": 2
}
